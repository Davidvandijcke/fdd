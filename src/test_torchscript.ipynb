{
 "cells": [
  {
   "cell_type": "markdown",
   "metadata": {},
   "source": [
    "Let's load some libraries first"
   ]
  },
  {
   "cell_type": "code",
   "execution_count": 1,
   "metadata": {},
   "outputs": [
    {
     "name": "stderr",
     "output_type": "stream",
     "text": [
      "/Users/davidvandijcke/miniconda3/envs/torch/lib/python3.9/site-packages/tqdm/auto.py:22: TqdmWarning: IProgress not found. Please update jupyter and ipywidgets. See https://ipywidgets.readthedocs.io/en/stable/user_install.html\n",
      "  from .autonotebook import tqdm as notebook_tqdm\n"
     ]
    },
    {
     "data": {
      "text/plain": [
       "<utils.DeviceMode at 0x1218cb2e0>"
      ]
     },
     "execution_count": 1,
     "metadata": {},
     "output_type": "execute_result"
    }
   ],
   "source": [
    "from scipy.spatial import Voronoi, voronoi_plot_2d\n",
    "import numpy as np\n",
    "import matplotlib.pyplot as plt\n",
    "from primaldual_multi import PrimalDual\n",
    "import torch\n",
    "from utils import * \n",
    "\n",
    "\n",
    "def setDevice():\n",
    "    if torch.cuda.is_available(): # cuda gpus\n",
    "        device = torch.device(\"cuda\")\n",
    "        #torch.cuda.set_device(int(gpu_id))\n",
    "        torch.set_default_tensor_type('torch.cuda.FloatTensor')\n",
    "    elif torch.backends.mps.is_available(): # mac gpus\n",
    "        device = torch.device(\"mps\")\n",
    "    elif torch.backends.mkl.is_available(): # intel cpus\n",
    "        device = torch.device(\"mkl\")\n",
    "    torch.set_grad_enabled(True)\n",
    "    return device\n",
    "\n",
    "# detect GPU device and set it as default\n",
    "dev = setDevice()\n",
    "g = DeviceMode(torch.device(dev))\n",
    "g.__enter__()"
   ]
  },
  {
   "cell_type": "code",
   "execution_count": 2,
   "metadata": {},
   "outputs": [],
   "source": [
    "def run_primal_dual(f, repeats, level, lmbda, nu):\n",
    "    # create an instance of the class\n",
    "    primal_dual = PrimalDual(f, repeats, level, lmbda, nu)\n",
    "    # call the run function\n",
    "    primal_dual.run()\n"
   ]
  },
  {
   "cell_type": "code",
   "execution_count": 17,
   "metadata": {},
   "outputs": [],
   "source": [
    "# compile the function and the class into a Torchscript module\n",
    "f = torch.randn(10, 10, 1)\n",
    "repeats = torch.tensor(10)\n",
    "level = torch.tensor(16)\n",
    "lmbda = torch.tensor(1)\n",
    "nu = torch.tensor(0.1)\n",
    "tol = torch.tensor(1e-3)\n",
    "# repeats = 10\n",
    "# level = 16\n",
    "# lmbda = 1\n",
    "# nu = 0.1\n",
    "\n",
    "#scripted_primal_dual = torch.jit.trace(PrimalDual(), (f, repeats, level, lmbda, nu))\n",
    "scripted_primal_dual = torch.jit.script(PrimalDual(), example_inputs = [f, repeats, level, lmbda, nu, tol])"
   ]
  },
  {
   "cell_type": "code",
   "execution_count": 3,
   "metadata": {},
   "outputs": [
    {
     "data": {
      "text/plain": [
       "3"
      ]
     },
     "execution_count": 3,
     "metadata": {},
     "output_type": "execute_result"
    }
   ],
   "source": [
    "f.dim()"
   ]
  },
  {
   "cell_type": "code",
   "execution_count": 12,
   "metadata": {},
   "outputs": [],
   "source": [
    "torch.jit.save(scripted_primal_dual, 'scripted_primal_dual.pt')"
   ]
  },
  {
   "cell_type": "code",
   "execution_count": 19,
   "metadata": {},
   "outputs": [],
   "source": [
    "scripted_primal_dual = torch.jit.load('scripted_primal_dual.pt')"
   ]
  },
  {
   "cell_type": "code",
   "execution_count": 10,
   "metadata": {},
   "outputs": [],
   "source": [
    "scripted_primal_dual = scripted_primal_dual.to(dev)\n"
   ]
  },
  {
   "cell_type": "code",
   "execution_count": 20,
   "metadata": {},
   "outputs": [],
   "source": [
    "import cv2\n",
    "\n",
    "#----- parameters\n",
    "image = \"marilyn.png\"\n",
    "gray = True\n",
    "#-------\n",
    " \n",
    "\n",
    "\n",
    "def convert_interleaved_to_layered(aOut, aIn, w, h, nc):\n",
    "    if nc==1:\n",
    "        aOut=aIn\n",
    "        return aOut\n",
    "    nOmega = w*h\n",
    "    for y in range(h):\n",
    "        for x in range(w):\n",
    "            for c in range(nc):\n",
    "                aOut[x + w*y + nOmega*c] = aIn[(nc-1-c) + nc*(x + w*y)]\n",
    "    return aOut\n",
    "\n",
    "def convert_mat_to_layered(aOut, mIn, nc, w, h):\n",
    "    return convert_interleaved_to_layered(aOut, mIn, w, h, nc)\n",
    "\n",
    "\n",
    "\n",
    "image = \"marylin.png\"\n",
    "mIn = cv2.imread(image, (0 if gray else 1))\n",
    "mIn = mIn.astype(np.float32)\n",
    "mIn /= 255\n",
    "w = mIn.shape[1]         # width\n",
    "h = mIn.shape[0]         # height\n",
    "nc = mIn.shape[2] if mIn.ndim == 3 else 1  # number of channels\n",
    "h_img = np.zeros((h,w,nc,), dtype = np.float32)\n",
    "h_img = convert_mat_to_layered(h_img, mIn.flatten(), nc, w, h)\n",
    "f = torch.as_tensor(h_img).view(h,w,nc,).detach().clone()\n",
    "\n",
    "repeats = torch.tensor(1000)\n",
    "level = torch.tensor(16)\n",
    "lmbda = torch.tensor(1)\n",
    "nu = torch.tensor(0.1)\n",
    "tol = torch.tensor(5e-5)\n",
    "# repeats = 1000\n",
    "# level = 16\n",
    "# lmbda = 1\n",
    "# nu = 0.001\n",
    "\n",
    "# model = PrimalDual()\n",
    "# u = model.forward(f, repeats, level, lmbda, nu)\n",
    "\n",
    "u = scripted_primal_dual(f, repeats, level, lmbda, nu, tol)"
   ]
  },
  {
   "cell_type": "code",
   "execution_count": 21,
   "metadata": {},
   "outputs": [
    {
     "data": {
      "text/plain": [
       "True"
      ]
     },
     "execution_count": 21,
     "metadata": {},
     "output_type": "execute_result"
    }
   ],
   "source": [
    "def interpolate(k, uk0, uk1, l):\n",
    "    return (k + (0.5 - uk0) / (uk1 - uk0)) / l\n",
    "\n",
    "def isosurface(u, l, h, w, nc):\n",
    "\n",
    "    u = u.detach().cpu().numpy()\n",
    "    mask = (u[:,:,:,:-1] > 0.5) & (u[:,:,:,1:] <= 0.5)\n",
    "    # Find the indices of the first True value along the last dimension, and set all the following ones to False\n",
    "    mask[:, :, :, 1:] = (mask[:, :, :, 1:]) & (mask.cumsum(-1)[:,:,:,:-1] < 1)\n",
    "\n",
    "    uk0 = u[:,:,:,:-1][mask]\n",
    "    uk1 = u[:,:,:,1:][mask]\n",
    "    \n",
    "    # get the indices of the last dimension where mask is True\n",
    "    k = np.where(mask == True)[-1] + 1\n",
    "    \n",
    "    h_img = interpolate(k, uk0, uk1, l).reshape(h, w, nc)\n",
    "    \n",
    "    return h_img\n",
    "\n",
    "        \n",
    "h_img = isosurface(u, int(level), int(h), int(w), int(nc)) # back out estimated image from superlevel sets using 0.5-isosurface and assign to self.h_img\n",
    "\n",
    "# save input and result\n",
    "cv2.imwrite(\"result.png\",h_img*255)"
   ]
  },
  {
   "cell_type": "code",
   "execution_count": 15,
   "metadata": {},
   "outputs": [
    {
     "data": {
      "text/plain": [
       "array([[243, 243, 241, ..., 241, 239, 241],\n",
       "       [242, 242, 241, ..., 242, 241, 241],\n",
       "       [244, 242, 243, ..., 239, 240, 241],\n",
       "       ...,\n",
       "       [224, 223, 221, ..., 229, 228, 229],\n",
       "       [227, 223, 222, ..., 230, 231, 230],\n",
       "       [225, 224, 220, ..., 231, 231, 231]], dtype=uint8)"
      ]
     },
     "execution_count": 15,
     "metadata": {},
     "output_type": "execute_result"
    }
   ],
   "source": [
    "image = \"marylin.png\"\n",
    "cv2.imread(image, (0 if gray else 1))"
   ]
  },
  {
   "cell_type": "code",
   "execution_count": 8,
   "metadata": {},
   "outputs": [
    {
     "data": {
      "text/plain": [
       "torch.Size([127, 127, 1])"
      ]
     },
     "execution_count": 8,
     "metadata": {},
     "output_type": "execute_result"
    }
   ],
   "source": [
    "f.shape"
   ]
  },
  {
   "cell_type": "code",
   "execution_count": null,
   "metadata": {},
   "outputs": [],
   "source": []
  }
 ],
 "metadata": {
  "kernelspec": {
   "display_name": "torch",
   "language": "python",
   "name": "python3"
  },
  "language_info": {
   "codemirror_mode": {
    "name": "ipython",
    "version": 3
   },
   "file_extension": ".py",
   "mimetype": "text/x-python",
   "name": "python",
   "nbconvert_exporter": "python",
   "pygments_lexer": "ipython3",
   "version": "3.9.15"
  },
  "orig_nbformat": 4
 },
 "nbformat": 4,
 "nbformat_minor": 2
}
